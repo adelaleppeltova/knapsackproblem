{
 "cells": [
  {
   "cell_type": "markdown",
   "id": "4bbc141a",
   "metadata": {},
   "source": [
    "# Optimalizace výběru položek do omezeného prostoru"
   ]
  },
  {
   "cell_type": "markdown",
   "id": "42283aa8",
   "metadata": {},
   "source": [
    "**Semestrální úkol předmětu VI1**\n",
    "\n",
    "Autor: Bc. Adéla Leppeltová\n",
    "Akademický rok: 2024/25 <br>\n",
    "Popis: Tento projekt se zabývá řešením kombinatorického problému – úlohy o batohu (knapsack problem) – pomocí genetického algoritmu.\n",
    "\n",
    "Cílem je nalézt takovou kombinaci položek, která nepřekročí maximální povolenou hmotnost batohu, zároveň maximalizuje celkovou hodnotu a využije dostupný prostor co nejefektivněji.\n",
    "\n",
    "[Odkaz seminární úkol na GitHub](https://github.com/adelaleppeltova/knapsackproblem)\n",
    "\n"
   ]
  },
  {
   "cell_type": "markdown",
   "id": "a98535f7",
   "metadata": {},
   "source": [
    "## Obsah\n",
    "- [Definice datových struktur](#definice-datových-stuktur)\n",
    "- [Import knihoven](#import-knihoven)\n",
    "- [Definice datových struktur](#definice-datových-stuktur)\n",
    "- [Nastavení parametrů](#nastavení-parametrů)\n",
    "- [Definice funkcí](#definice-funkcí)\n",
    "- [Algoritmus](#algoritmus)\n",
    "- [Spuštění algoritmu a výstup](#spuštění-algoritmu-a-výstup)\n"
   ]
  },
  {
   "cell_type": "markdown",
   "id": "e0cf2ae8",
   "metadata": {},
   "source": [
    "## Import knihoven"
   ]
  },
  {
   "cell_type": "code",
   "execution_count": 1,
   "id": "cb989ef2",
   "metadata": {},
   "outputs": [],
   "source": [
    "from dataclasses import dataclass\n",
    "import random"
   ]
  },
  {
   "cell_type": "markdown",
   "id": "4528f633",
   "metadata": {},
   "source": [
    "## Definice datových stuktur"
   ]
  },
  {
   "cell_type": "code",
   "execution_count": null,
   "id": "bc29e858",
   "metadata": {},
   "outputs": [],
   "source": [
    "@dataclass\n",
    "class Item:\n",
    "    name: str\n",
    "    weight: float\n",
    "    value: float\n",
    "\n",
    "# Seznam položek\n",
    "items = [\n",
    "    Item(\"Notebook\", 3.0, 10000),\n",
    "    Item(\"Foťák\", 1.5, 15000),\n",
    "    Item(\"Kniha\", 0.5, 300),\n",
    "    Item(\"Mobil\", 0.3, 8000),\n",
    "    Item(\"Sluchátka\", 0.4, 1400),\n",
    "    Item(\"Lahev s vodou\", 1.0, 150),\n",
    "    Item(\"Bunda\", 0.6, 700),\n",
    "    Item(\"Peněženka\", 0.2, 200),\n",
    "    Item(\"Powerbanka\", 0.6, 600),\n",
    "    Item(\"Hodinky\", 0.2, 1000),\n",
    "    Item(\"Svačina\", 0.4, 50),\n",
    "    Item(\"Lopata\", 5.0, 100),\n",
    "    Item(\"Sekera\", 4.0, 100),\n",
    "    Item(\"Stan\", 5.0, 2200),\n",
    "\n",
    "]"
   ]
  },
  {
   "cell_type": "markdown",
   "id": "85dd7284",
   "metadata": {},
   "source": [
    "## Nastavení parametrů"
   ]
  },
  {
   "cell_type": "markdown",
   "id": "9b739321",
   "metadata": {},
   "source": [
    "Nastavení parametrů genetického algoritmu, například maximální hmotnost batohu, velikost populace a pravděpodobnost mutace."
   ]
  },
  {
   "cell_type": "code",
   "execution_count": 15,
   "id": "49ad8f2e",
   "metadata": {},
   "outputs": [],
   "source": [
    "MAX_WEIGHT = 8.0\n",
    "POPULATION_SIZE = 50\n",
    "GENERATIONS = 100\n",
    "MUTATION_RATE = 0.05\n"
   ]
  },
  {
   "cell_type": "markdown",
   "id": "09b61100",
   "metadata": {},
   "source": [
    "## Definice funkcí"
   ]
  },
  {
   "cell_type": "markdown",
   "id": "74fe0bc9",
   "metadata": {},
   "source": [
    "Tvorba jedince, populace, vyhodnocení, selekce, křížení a mutace."
   ]
  },
  {
   "cell_type": "code",
   "execution_count": 16,
   "id": "c8f24edf",
   "metadata": {},
   "outputs": [],
   "source": [
    "def generate_individual(n_items):\n",
    "    return [random.randint(0, 1) for _ in range(n_items)]\n",
    "\n",
    "def generate_population(size, n_items):\n",
    "    return [generate_individual(n_items) for _ in range(size)]\n",
    "\n",
    "def fitness(individual, items, max_weight):\n",
    "    total_weight = total_value = 0\n",
    "    for gene, item in zip(individual, items):\n",
    "        if gene == 1:\n",
    "            total_weight += item.weight\n",
    "            total_value += item.value\n",
    "    if total_weight > max_weight:\n",
    "        return 0\n",
    "    item_count = sum(individual)\n",
    "    return total_value + item_count * 10\n",
    "\n",
    "def selection(population, fitnesses):\n",
    "    return random.choices(population, weights=fitnesses, k=2)\n",
    "\n",
    "def crossover(parent1, parent2):\n",
    "    point = random.randint(1, len(parent1) - 1)\n",
    "    return parent1[:point] + parent2[point:]\n",
    "\n",
    "def mutate(individual, mutation_rate):\n",
    "    return [gene if random.random() > mutation_rate else 1 - gene for gene in individual]"
   ]
  },
  {
   "cell_type": "markdown",
   "id": "5f06c32f",
   "metadata": {},
   "source": [
    "## Algoritmus"
   ]
  },
  {
   "cell_type": "code",
   "execution_count": 17,
   "id": "d5a53037",
   "metadata": {},
   "outputs": [],
   "source": [
    "def run_genetic_algorithm():\n",
    "    population = generate_population(POPULATION_SIZE, len(items))\n",
    "\n",
    "\n",
    "    for gen in range(GENERATIONS):\n",
    "        fitnesses = [fitness(ind, items, MAX_WEIGHT) for ind in population]\n",
    "        new_population = []\n",
    "\n",
    "        for _ in range(POPULATION_SIZE):\n",
    "            parent1, parent2 = selection(population, fitnesses)\n",
    "            child = crossover(parent1, parent2)\n",
    "            child = mutate(child, MUTATION_RATE)\n",
    "            new_population.append(child)\n",
    "\n",
    "        population = new_population\n",
    "\n",
    "    fitnesses = [fitness(ind, items, MAX_WEIGHT) for ind in population]\n",
    "    best_index = fitnesses.index(max(fitnesses))\n",
    "    best_solution = population[best_index]\n",
    "\n",
    "# Vypsání výsledků\n",
    "    print(\"\\nNejlepší nalezené řešení:\")\n",
    "    total_weight = total_value = item_count = 0\n",
    "    selected_items = []\n",
    "\n",
    "    for gene, item in zip(best_solution, items):\n",
    "        if gene == 1:\n",
    "            selected_items.append(item)\n",
    "            total_weight += item.weight\n",
    "            total_value += item.value\n",
    "            item_count += 1\n",
    "\n",
    "    for item in selected_items:\n",
    "        print(f\"- {item.name} (hmotnost: {item.weight} kg, hodnota: {item.value} Kč)\")\n",
    "\n",
    "    print(f\"\\nCelková hmotnost: {total_weight:.2f} kg\")\n",
    "    print(f\"Celková hodnota: {total_value:.2f} Kč\")\n",
    "    print(f\"Počet položek v batohu: {item_count}\")\n",
    "    print(\"\\nBinární reprezentace řešení:\")\n",
    "    print(\" \".join(map(str, best_solution)))"
   ]
  },
  {
   "cell_type": "markdown",
   "id": "36a5e13d",
   "metadata": {},
   "source": [
    "## Spuštění algoritmu a výstup"
   ]
  },
  {
   "cell_type": "code",
   "execution_count": 18,
   "id": "4b80708f",
   "metadata": {},
   "outputs": [
    {
     "name": "stdout",
     "output_type": "stream",
     "text": [
      "\n",
      "Nejlepší nalezené řešení:\n",
      "- Notebook (hmotnost: 3.0 kg, hodnota: 10000 Kč)\n",
      "- Foťák (hmotnost: 1.5 kg, hodnota: 15000 Kč)\n",
      "- Kniha (hmotnost: 0.5 kg, hodnota: 300 Kč)\n",
      "- Mobil (hmotnost: 0.3 kg, hodnota: 8000 Kč)\n",
      "- Sluchátka (hmotnost: 0.4 kg, hodnota: 1400 Kč)\n",
      "- Lahev s vodou (hmotnost: 1.0 kg, hodnota: 150 Kč)\n",
      "- Bunda (hmotnost: 0.6 kg, hodnota: 700 Kč)\n",
      "- Peněženka (hmotnost: 0.2 kg, hodnota: 200 Kč)\n",
      "- Hodinky (hmotnost: 0.2 kg, hodnota: 1000 Kč)\n",
      "\n",
      "Celková hmotnost: 7.70 kg\n",
      "Celková hodnota: 36750.00 Kč\n",
      "Počet položek v batohu: 9\n",
      "\n",
      "Binární reprezentace řešení:\n",
      "1 1 1 1 1 1 1 1 0 1 0 0 0 0\n"
     ]
    }
   ],
   "source": [
    "run_genetic_algorithm()"
   ]
  },
  {
   "cell_type": "markdown",
   "id": "4906ac89",
   "metadata": {},
   "source": [
    "# Vizualizace výstupu"
   ]
  },
  {
   "cell_type": "code",
   "execution_count": null,
   "id": "df0934e4",
   "metadata": {},
   "outputs": [],
   "source": []
  },
  {
   "cell_type": "markdown",
   "id": "32aa4a96",
   "metadata": {},
   "source": [
    "# Závěr a shrnutí"
   ]
  },
  {
   "cell_type": "code",
   "execution_count": null,
   "id": "1eb1d889",
   "metadata": {},
   "outputs": [],
   "source": []
  }
 ],
 "metadata": {
  "kernelspec": {
   "display_name": "Python 3",
   "language": "python",
   "name": "python3"
  },
  "language_info": {
   "codemirror_mode": {
    "name": "ipython",
    "version": 3
   },
   "file_extension": ".py",
   "mimetype": "text/x-python",
   "name": "python",
   "nbconvert_exporter": "python",
   "pygments_lexer": "ipython3",
   "version": "3.11.10"
  }
 },
 "nbformat": 4,
 "nbformat_minor": 5
}
